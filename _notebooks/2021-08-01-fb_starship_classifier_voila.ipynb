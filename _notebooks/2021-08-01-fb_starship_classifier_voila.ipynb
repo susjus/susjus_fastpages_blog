{
 "cells": [
  {
   "cell_type": "markdown",
   "source": [
    "# \"Starship Classifier Voila\"\n",
    "> \"Hosting simple app to run inference using our trained model\"\n",
    "\n",
    "- toc: false\n",
    "- branch: master\n",
    "- badges: true\n",
    "- comments: true\n",
    "- author: Justin Kenny\n",
    "- categories: [fastpages, jupyter, fastai, voila]"
   ],
   "metadata": {}
  },
  {
   "cell_type": "code",
   "execution_count": 1,
   "source": [
    "from fastai.vision.all import *\n",
    "from fastai.vision.widgets import *"
   ],
   "outputs": [],
   "metadata": {}
  },
  {
   "cell_type": "markdown",
   "source": [
    "# The Amazing Starship Classifier!"
   ],
   "metadata": {}
  },
  {
   "cell_type": "markdown",
   "source": [
    "You need to know whether you're being chased by a Starfighter, Gunship or Freighter and you need an answer *fast*? Then you've come to the right place.\n",
    "\n",
    "Take a pic of the Starship chasing you and click 'upload' to classify it.\n",
    "\n",
    "**Important:** This only handles Starfighters, Gunships and Freighters. It will not give a sensible answer for other types of spaceships or objects (incl. sailboats).\n",
    "\n",
    "This is a simple app to help me learn about [voila](https://github.com/voila-dashboards/voila) and [binder](https://mybinder.org/) as referenced in this [blog](https://susjus.github.io/susjus_fastpages_blog/fastpages/jupyter/fastai/voila/2021/08/01/fb_starship_classifier_voila.html) post.\n",
    "\n",
    "**EDIT:** Check out the hosted app: [![Binder](https://mybinder.org/badge_logo.svg)](https://mybinder.org/v2/gh/susjus/starship_classifier_binder.git/HEAD?urlpath=%2Fvoila%2Frender%2Fstarship_classifier_voila.ipynb)\n",
    "\n",
    "----"
   ],
   "metadata": {}
  },
  {
   "cell_type": "code",
   "execution_count": 3,
   "source": [
    "path = Path()\n",
    "learn_inf = load_learner(path/'export.pkl', cpu=True)\n",
    "btn_upload = widgets.FileUpload()\n",
    "out_pl = widgets.Output()\n",
    "lbl_pred = widgets.Label()"
   ],
   "outputs": [],
   "metadata": {}
  },
  {
   "cell_type": "code",
   "execution_count": 4,
   "source": [
    "def on_data_change(change):\n",
    "    lbl_pred.value = ''\n",
    "    img = PILImage.create(btn_upload.data[-1])\n",
    "    out_pl.clear_output()\n",
    "    with out_pl: display(img.to_thumb(128,128))\n",
    "    pred,pred_idx,probs = learn_inf.predict(img)\n",
    "    lbl_pred.value = f'Prediction: {pred}; Probability: {probs[pred_idx]:.04f}'"
   ],
   "outputs": [],
   "metadata": {}
  },
  {
   "cell_type": "code",
   "execution_count": 5,
   "source": [
    "btn_upload.observe(on_data_change, names=['data'])"
   ],
   "outputs": [],
   "metadata": {}
  },
  {
   "cell_type": "code",
   "execution_count": 6,
   "source": [
    "display(VBox([widgets.Label('Select your Starship!'), btn_upload, out_pl, lbl_pred]))"
   ],
   "outputs": [
    {
     "output_type": "display_data",
     "data": {
      "text/plain": [
       "VBox(children=(Label(value='Select your Starship!'), FileUpload(value={}, description='Upload'), Output(), Lab…"
      ],
      "application/vnd.jupyter.widget-view+json": {
       "model_id": "9377e7c447b64ef19c8780cf9b65a009",
       "version_major": 2,
       "version_minor": 0
      }
     },
     "metadata": {}
    }
   ],
   "metadata": {
    "scrolled": false
   }
  }
 ],
 "metadata": {
  "jupytext": {
   "split_at_heading": true
  },
  "kernelspec": {
   "display_name": "Python 3",
   "language": "python",
   "name": "python3"
  },
  "language_info": {
   "codemirror_mode": {
    "name": "ipython",
    "version": 3
   },
   "file_extension": ".py",
   "mimetype": "text/x-python",
   "name": "python",
   "nbconvert_exporter": "python",
   "pygments_lexer": "ipython3",
   "version": "3.9.6"
  },
  "toc": {
   "base_numbering": 1,
   "nav_menu": {},
   "number_sections": false,
   "sideBar": true,
   "skip_h1_title": true,
   "title_cell": "Table of Contents",
   "title_sidebar": "Contents",
   "toc_cell": false,
   "toc_position": {},
   "toc_section_display": true,
   "toc_window_display": false
  }
 },
 "nbformat": 4,
 "nbformat_minor": 2
}